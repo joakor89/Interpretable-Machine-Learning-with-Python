{
 "cells": [
  {
   "cell_type": "markdown",
   "id": "6e534b18-6136-4962-af1b-a5ab6b1b0434",
   "metadata": {},
   "source": [
    "# Cardiovascular Disease Risk Factors\n",
    "\n",
    "### The Preparations"
   ]
  },
  {
   "cell_type": "code",
   "execution_count": 1,
   "id": "b3404749-1848-4fd0-9f9b-f018525fadb7",
   "metadata": {},
   "outputs": [],
   "source": [
    "# !python chapter_setup.py"
   ]
  },
  {
   "cell_type": "markdown",
   "id": "1d137a5d-4b69-48a0-ac98-0ecd8a5aab0f",
   "metadata": {},
   "source": [
    "### Loading Libraries"
   ]
  },
  {
   "cell_type": "code",
   "execution_count": 1,
   "id": "7aae2ba0-99fe-417c-8e37-93954e13dc9a",
   "metadata": {},
   "outputs": [],
   "source": [
    "# Numerical Computing\n",
    "import math\n",
    "import numpy as np\n",
    "\n",
    "# Data Manipulation\n",
    "import pandas as pd\n",
    "\n",
    "# Data Visualization\n",
    "import seaborn as sns\n",
    "import matplotlib.pyplot as plt\n",
    "\n",
    "# StatsModels\n",
    "import statsmodels.api as sm\n",
    "\n",
    "# Datasets\n",
    "# import machine_learning_datasets as mldatasets\n",
    "\n",
    "# Scikit-Learn\n",
    "from sklearn.model_selection import train_test_split"
   ]
  },
  {
   "cell_type": "markdown",
   "id": "6216f077-95a1-44c4-9143-c7102d9893d5",
   "metadata": {},
   "source": [
    "### Understanding & Preparing Data"
   ]
  },
  {
   "cell_type": "code",
   "execution_count": 3,
   "id": "84d47e0f-dc6c-4a32-8b93-39f50ae1f4f8",
   "metadata": {},
   "outputs": [],
   "source": [
    "# cvd_df = mldatasets.load(\"cardiovascular-disease\")"
   ]
  },
  {
   "cell_type": "code",
   "execution_count": 4,
   "id": "604c8fd5-bfd5-49db-9fd7-b356c81a78f4",
   "metadata": {},
   "outputs": [],
   "source": [
    "# cvd_df.info()"
   ]
  },
  {
   "cell_type": "markdown",
   "id": "56959ac1-452d-4a04-ab1c-969ebda68422",
   "metadata": {},
   "source": [
    "### Data Preparation"
   ]
  },
  {
   "cell_type": "code",
   "execution_count": 6,
   "id": "706e075c-2d2f-4606-9387-c4afcaa68108",
   "metadata": {},
   "outputs": [],
   "source": [
    "# cvd_df['age'] =  cvd_df['age'] / 365.24"
   ]
  },
  {
   "cell_type": "code",
   "execution_count": null,
   "id": "73284793-108e-4d43-bd4e-d13deb206936",
   "metadata": {},
   "outputs": [],
   "source": [
    "def set_header_font():\n",
    "    return [dict(selector=\"th\", props=[(\"font-size\", \"14pt\")])]"
   ]
  },
  {
   "cell_type": "code",
   "execution_count": 7,
   "id": "f49743a7-a824-4ec8-a321-5903f62b6914",
   "metadata": {},
   "outputs": [],
   "source": [
    "# cvd_df.describe(percentiles=[.01,.99]).transpose().style.format('{:.2f}').\\\n",
    "#                 set_properties(**{'font-size': '16pt'}).set_table_styles(set_header_font())"
   ]
  },
  {
   "cell_type": "code",
   "execution_count": 8,
   "id": "a4ecc5bf-e36e-4900-a66f-5742001de370",
   "metadata": {},
   "outputs": [],
   "source": [
    "# incorrect_l = cvd_df[(cvd_df['ap_hi'] > 370) | (cvd_df['ap_hi'] <= 40) |\\\n",
    "#                      (cvd_df['ap_lo'] > 370) | (cvd_df['ap_lo'] <= 40)].index\n",
    "\n",
    "# print(len(incorrect_l) /  cvd_df.shape[0])"
   ]
  },
  {
   "cell_type": "code",
   "execution_count": 9,
   "id": "d5c68e59-4be5-4803-b93d-76ef8e4851cb",
   "metadata": {},
   "outputs": [],
   "source": [
    "# cvd_df.drop(incorrect_l, inplace=True)"
   ]
  },
  {
   "cell_type": "code",
   "execution_count": 10,
   "id": "e7e8fd87-ed31-4268-8fae-9745c53f39a6",
   "metadata": {},
   "outputs": [],
   "source": [
    "# cvd_df = cvd_df[cvd_df['ap_hi'] >= cvd_df['ap_lo']].reset_index(drop=True)"
   ]
  },
  {
   "cell_type": "code",
   "execution_count": 11,
   "id": "5b3781fc-107c-4160-a703-f5715833cbfc",
   "metadata": {},
   "outputs": [],
   "source": [
    "# # Target\n",
    "# y = cvd_df['cardio']\n",
    "\n",
    "# # Features\n",
    "# X = cvd_df.drop(['cardio'], axis=1).copy()\n",
    "\n",
    "# X_train, X_test, y_train, y_test = train_test_split(X, y, test_size=0.15, random_state=9)"
   ]
  },
  {
   "cell_type": "markdown",
   "id": "139b2c19-7be7-45ae-8ddc-93371a455631",
   "metadata": {},
   "source": [
    "### Learning about Interpretation Method Types and Scopes"
   ]
  },
  {
   "cell_type": "code",
   "execution_count": 13,
   "id": "7ecdd1ab-d48d-420c-94ce-fcb79a735669",
   "metadata": {},
   "outputs": [],
   "source": [
    "# log_model = sm.Logit(y_train, sm.add_constant(X_train))\n",
    "# log_result = log_model.fit()\n",
    "\n",
    "# print(log_result.summary2())"
   ]
  },
  {
   "cell_type": "code",
   "execution_count": 14,
   "id": "3185a853-90af-469a-8d34-b710e91ff8dc",
   "metadata": {},
   "outputs": [],
   "source": [
    "# np.exp(log_result.params).sort_values(ascending=False)"
   ]
  },
  {
   "cell_type": "code",
   "execution_count": 15,
   "id": "a96e2e76-e3a3-4621-8e26-a0ca087c6481",
   "metadata": {},
   "outputs": [],
   "source": [
    "# np.std(X_train, 0)"
   ]
  },
  {
   "cell_type": "code",
   "execution_count": 12,
   "id": "267fe96d-cfc0-4f0c-9328-ecd43ac0cf26",
   "metadata": {},
   "outputs": [],
   "source": [
    "# coefs = log_result.params.drop(labels=['const','gender'])\n",
    "\n",
    "# stdv = np.std(X_train, 0).drop(labels='gender')\n",
    "\n",
    "# abs(coefs * stdv).sort_values(ascending=False)"
   ]
  },
  {
   "cell_type": "markdown",
   "id": "62801f5e-9688-44bb-af7a-576fbb35eb01",
   "metadata": {},
   "source": [
    "### Interpreting Individual Predictions with Logistic Regression"
   ]
  },
  {
   "cell_type": "code",
   "execution_count": 16,
   "id": "8a1fc8c9-3dcd-479e-aa38-413f3ae87e4a",
   "metadata": {},
   "outputs": [],
   "source": [
    "# y_pred = log_result.predict(sm.add_constant(X_test)).to_numpy()\n",
    "\n",
    "# print(y_pred)"
   ]
  },
  {
   "cell_type": "code",
   "execution_count": 17,
   "id": "6a4a382f-60d1-4259-93d4-32dd778e6d21",
   "metadata": {},
   "outputs": [],
   "source": [
    "# print(y_pred[2872])"
   ]
  },
  {
   "cell_type": "code",
   "execution_count": 18,
   "id": "2913befc-fa37-4b87-9db2-c3e73dbf4830",
   "metadata": {},
   "outputs": [],
   "source": [
    "# print(X_test.iloc[2872])"
   ]
  },
  {
   "cell_type": "code",
   "execution_count": 19,
   "id": "d5e79003-da23-4c8c-8cdf-c5716d7222b2",
   "metadata": {},
   "outputs": [],
   "source": [
    "filler_feature_values = {\"age\": 30, \"gender\": 1, \"height\": 165, \"weight\": 57, \"ap_hi\": 110, \n",
    "                         \"ap_lo\": 70, \"cholesterol\": 1, \"gluc\": 1, \"smoke\": 0, \"alco\":0, \"active\":1\n",
    "                    }"
   ]
  },
  {
   "cell_type": "code",
   "execution_count": 20,
   "id": "5f99c4b2-1096-449b-b1ab-50b5b1e0165c",
   "metadata": {},
   "outputs": [],
   "source": [
    "# X_highlight = np.reshape(\\\n",
    "#        np.concatenate(([1], X_test.iloc[2872].to_numpy())), (1, 12))\n",
    "\n",
    "# print(X_highlight)"
   ]
  },
  {
   "cell_type": "code",
   "execution_count": 21,
   "id": "21518cef-bf73-477a-a41b-20ce05025494",
   "metadata": {},
   "outputs": [],
   "source": [
    "# plt.rcParams.update({'font.size': 14, 'figure.dpi':300})\n",
    "# fig, axarr = plt.subplots(2, 2, figsize=(12,8), sharex=True, sharey=False)\n",
    "# mldatasets.create_decision_plot(X_test, y_test, log_result, [\"ap_hi\", \"age\"], None, \n",
    "#                      X_highlight, filler_feature_values, ax=axarr.flat[0])\n",
    "# mldatasets.create_decision_plot(X_test, y_test, log_result, [\"ap_hi\", \"cholesterol\"], None, \n",
    "#                      X_highlight, filler_feature_values, ax=axarr.flat[1])\n",
    "# mldatasets.create_decision_plot(X_test, y_test, log_result, [\"ap_hi\", \"ap_lo\"], None, \n",
    "#                      X_highlight, filler_feature_values, ax=axarr.flat[2])\n",
    "# mldatasets.create_decision_plot(X_test, y_test, log_result, [\"ap_hi\", \"weight\"], None, \n",
    "#                      X_highlight, filler_feature_values, ax=axarr.flat[3])\n",
    "# plt.subplots_adjust(top = 1, bottom=0, hspace=0.2, wspace=0.2)\n",
    "# plt.show()"
   ]
  },
  {
   "cell_type": "markdown",
   "id": "f5cfb723-6467-44c8-a40f-dfdf12502210",
   "metadata": {},
   "source": [
    "### Appreciate what Hinders Machine Learning Interpretability"
   ]
  },
  {
   "cell_type": "code",
   "execution_count": null,
   "id": "56c37ba5-cced-49e5-b056-b1fa6aa0c69c",
   "metadata": {},
   "outputs": [],
   "source": []
  },
  {
   "cell_type": "code",
   "execution_count": null,
   "id": "96e4079a-8625-4e13-8100-4158373eb608",
   "metadata": {},
   "outputs": [],
   "source": []
  },
  {
   "cell_type": "code",
   "execution_count": null,
   "id": "cdd10b5b-d913-4e55-b4c4-b78f9321f13d",
   "metadata": {},
   "outputs": [],
   "source": []
  },
  {
   "cell_type": "code",
   "execution_count": null,
   "id": "eb191c55-fcbe-40f9-9f61-90b1e66f7ce5",
   "metadata": {},
   "outputs": [],
   "source": []
  },
  {
   "cell_type": "code",
   "execution_count": null,
   "id": "ab9b0362-e040-4d3c-bc0f-f17bc10e3515",
   "metadata": {},
   "outputs": [],
   "source": []
  },
  {
   "cell_type": "code",
   "execution_count": null,
   "id": "a5547712-bd05-4c04-a5a2-39caa1cf9fef",
   "metadata": {},
   "outputs": [],
   "source": []
  },
  {
   "cell_type": "code",
   "execution_count": null,
   "id": "2b81b4d3-bdd7-4b54-adc3-b47d55159e80",
   "metadata": {},
   "outputs": [],
   "source": []
  },
  {
   "cell_type": "code",
   "execution_count": null,
   "id": "cb50e0fc-7b7b-46f6-b923-d16e39d9c773",
   "metadata": {},
   "outputs": [],
   "source": []
  },
  {
   "cell_type": "code",
   "execution_count": null,
   "id": "658ca4aa-658b-4520-b7bb-def14aff73e7",
   "metadata": {},
   "outputs": [],
   "source": []
  }
 ],
 "metadata": {
  "kernelspec": {
   "display_name": "Python 3 (ipykernel)",
   "language": "python",
   "name": "python3"
  },
  "language_info": {
   "codemirror_mode": {
    "name": "ipython",
    "version": 3
   },
   "file_extension": ".py",
   "mimetype": "text/x-python",
   "name": "python",
   "nbconvert_exporter": "python",
   "pygments_lexer": "ipython3",
   "version": "3.12.11"
  }
 },
 "nbformat": 4,
 "nbformat_minor": 5
}
