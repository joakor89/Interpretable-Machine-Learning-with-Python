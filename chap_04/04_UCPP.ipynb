{
 "cells": [
  {
   "cell_type": "markdown",
   "id": "16dc3465-7be2-47df-aed9-f21f7732d387",
   "metadata": {},
   "source": [
    "# Used Cars Price Prediction\n",
    "\n",
    "### Loading Libraries"
   ]
  },
  {
   "cell_type": "code",
   "execution_count": 1,
   "id": "2ba64464-113e-46dd-948f-2e4edfe171aa",
   "metadata": {},
   "outputs": [],
   "source": [
    "# !python chapter_setup.py"
   ]
  },
  {
   "cell_type": "code",
   "execution_count": 2,
   "id": "5a261ea0-7222-4ebf-a818-7e98bae3d723",
   "metadata": {},
   "outputs": [],
   "source": [
    "# Numerical Computing\n",
    "import math\n",
    "import numpy as np\n",
    "\n",
    "# Data Manipulation\n",
    "import pandas as pd\n",
    "\n",
    "# Data Visualization\n",
    "import seaborn as sns\n",
    "import matplotlib as mpl\n",
    "import matplotlib.pyplot as plt \n",
    "\n",
    "# Operating System\n",
    "import os, random\n",
    "\n",
    "# Dataset Source\n",
    "import machine_learning_datasets as mldatasets\n",
    "\n",
    "# Scikit-Learn\n",
    "from sklearn import metrics, ensemble, tree, inspection, model_selection\n",
    "\n",
    "# CatBoost\n",
    "import catboost as cb\n",
    "\n",
    "# Model Interpreation\n",
    "import shap\n",
    "from PyALE import ale\n",
    "from pdpbox import pdp, info_plots\n",
    "from lime.lime_tabular import LimeTabularExplainer"
   ]
  },
  {
   "cell_type": "markdown",
   "id": "f578bc3c-f281-404f-ba5f-a7eda3374bec",
   "metadata": {},
   "source": [
    "### Understanding & Preparing Data"
   ]
  },
  {
   "cell_type": "code",
   "execution_count": 3,
   "id": "4a7241ea-56ea-4b6b-b9ef-075eb4a7dc41",
   "metadata": {},
   "outputs": [],
   "source": [
    "usedcars_df = mldatasets.load(\"usedcars\", prepare=True)"
   ]
  },
  {
   "cell_type": "code",
   "execution_count": 4,
   "id": "3156b705-194f-4aa3-8df4-f8cfcc22cc2f",
   "metadata": {},
   "outputs": [],
   "source": [
    "usedcars_orig_df = usedcars_df.copy()\n",
    "usedcars_df = mldatasets.make_dummies_with_limits(usedcars_df, 'fuel',\\\n",
    "                                                  min_recs=500, defcatname='other')\n",
    "usedcars_df = mldatasets.make_dummies_with_limits(usedcars_df, 'make_cat')\n",
    "usedcars_df = mldatasets.make_dummies_with_limits(usedcars_df, 'model_type',\\\n",
    "                                                  min_recs=500, defcatname='other')\n",
    "usedcars_df = mldatasets.make_dummies_with_limits(usedcars_df, 'condition',\\\n",
    "                                                  min_recs=200, defcatname='other')\n",
    "usedcars_df = mldatasets.make_dummies_with_limits(usedcars_df, 'drive')\n",
    "usedcars_df = mldatasets.make_dummies_with_limits(usedcars_df, 'title_status',\\\n",
    "                                                  min_recs=500, defcatname='other')"
   ]
  },
  {
   "cell_type": "code",
   "execution_count": 5,
   "id": "b7b58ccc-f841-4fc5-81fb-85e77309d865",
   "metadata": {},
   "outputs": [],
   "source": [
    "usedcars_df.dtypes[lambda x: x == object].index.tolist()"
   ]
  },
  {
   "cell_type": "code",
   "execution_count": 6,
   "id": "228e3e47-9ec5-4172-9ea5-3e6c10746758",
   "metadata": {},
   "outputs": [],
   "source": [
    "usedcars_df = usedcars_df.select_dtypes(include=(int,float,np.uint8))"
   ]
  },
  {
   "cell_type": "code",
   "execution_count": 7,
   "id": "85e6ab66-e4df-4c6d-a58b-28e4800437a8",
   "metadata": {},
   "outputs": [],
   "source": [
    "# Randomness\n",
    "rand = 42\n",
    "os.environ['PYTHONHASHSEED']=str(rand)\n",
    "np.random.seed(rand)\n",
    "random.seed(rand)\n",
    "\n",
    "# Target\n",
    "target_col = 'price'\n",
    "\n",
    "# Features\n",
    "X = usedcars_df.drop([target_col], axis=1)\n",
    "y = usedcars_df[target_col]\n",
    "\n",
    "# Train-Test Split\n",
    "X_train, X_test, y_train, y_test =\\\n",
    "        model_selection.train_test_split(X, y, test_size=0.25, random_state=rand)"
   ]
  },
  {
   "cell_type": "markdown",
   "id": "9b9755f3-6ded-4efc-afa4-c953a7153849",
   "metadata": {},
   "source": [
    "### Model Training & Evaluation"
   ]
  },
  {
   "cell_type": "code",
   "execution_count": null,
   "id": "e87ffd50-144a-4e82-9eed-85dd9604fd75",
   "metadata": {},
   "outputs": [],
   "source": [
    "# Cat Model Set\n",
    "cb_mdl = cb.CatBoostRegressor(depth=7, learning_rate=0.2,\\\n",
    "                               random_state=rand, verbose=False)\n",
    "\n",
    "# Cat Fitting Model\n",
    "cb_mdl = cb_mdl.fit(X_train, y_train)\n",
    "\n",
    "# RandomForest ModelSet\n",
    "rf_mdl = ensemble.RandomForestRegressor(n_jobs=-1, random_state=rand)\n",
    "\n",
    "# RandomForest Fitting Model\n",
    "rf_mdl = rf_mdl.fit(X_train.to_numpy(), y_train.to_numpy())"
   ]
  },
  {
   "cell_type": "code",
   "execution_count": 8,
   "id": "89f99fed-0bd8-4c50-a4e8-33041d059fbe",
   "metadata": {},
   "outputs": [],
   "source": [
    "mdl = cb_mdl\n",
    "\n",
    "sns.set()\n",
    "y_train_pred, y_test_pred =\\\n",
    "        mldatasets.evaluate_reg_mdl(mdl, X_train, X_test, y_train, y_test)"
   ]
  },
  {
   "cell_type": "code",
   "execution_count": 9,
   "id": "46e70b4e-ec2b-4157-85bc-132483497a79",
   "metadata": {},
   "outputs": [],
   "source": [
    "thresh = 4000\n",
    "\n",
    "pct_under = np.where(np.abs(y_test - y_test_pred) < thresh, 1, 0).sum() / len(y_test)\n",
    "print(f\"Percentage of test samples under ${thresh:,.0f} in absolute error {pct_under:.1%}\")"
   ]
  },
  {
   "cell_type": "code",
   "execution_count": 10,
   "id": "2481deea-d4c7-439a-af57-61243171f14f",
   "metadata": {},
   "outputs": [],
   "source": [
    "mdl = rf_mdl\n",
    "\n",
    "sns.set()\n",
    "_, _ =\\\n",
    "        mldatasets.evaluate_reg_mdl(mdl, X_train, X_test, y_train, y_test)"
   ]
  },
  {
   "cell_type": "markdown",
   "id": "17192a0f-95d1-42c8-a542-e2d047fb0578",
   "metadata": {},
   "source": [
    "### What is Feature Importance?"
   ]
  },
  {
   "cell_type": "code",
   "execution_count": 11,
   "id": "40bfc304-2b64-4915-b6b3-27eac60f47a1",
   "metadata": {},
   "outputs": [],
   "source": [
    "fig, axes = plt.subplots(nrows = 1, ncols = 1, figsize = (16,8), dpi=600)\n",
    "tree.plot_tree(rf_mdl.estimators_[0], feature_names=X_train.columns,\\\n",
    "               filled = True, max_depth=2, fontsize=14)\n",
    "fig.show()"
   ]
  },
  {
   "cell_type": "code",
   "execution_count": 12,
   "id": "d59a7cef-676b-460e-b792-ba7493466a96",
   "metadata": {},
   "outputs": [],
   "source": [
    "rf_feat_imp = rf_mdl.feature_importances_\n",
    "print(rf_feat_imp)"
   ]
  },
  {
   "cell_type": "code",
   "execution_count": 13,
   "id": "5163d397-5fc4-41e6-b71c-7826f477632e",
   "metadata": {},
   "outputs": [],
   "source": [
    "sum(rf_feat_imp)"
   ]
  },
  {
   "cell_type": "code",
   "execution_count": 14,
   "id": "dbdea2b0-e83d-4ea2-b405-455ce801840e",
   "metadata": {},
   "outputs": [],
   "source": [
    "cb_feat_imp = cb_mdl.feature_importances_\n",
    "print(cb_feat_imp)"
   ]
  },
  {
   "cell_type": "code",
   "execution_count": 15,
   "id": "e3bd0581-8919-48d7-8088-59f83ec53a63",
   "metadata": {},
   "outputs": [],
   "source": [
    "sum(cb_feat_imp)"
   ]
  },
  {
   "cell_type": "code",
   "execution_count": 16,
   "id": "4dbb40f7-8824-46bb-9661-9dac42206116",
   "metadata": {},
   "outputs": [],
   "source": [
    "feat_imp_df = pd.DataFrame({'feature':X_train.columns, 'cb_feat_imp':cb_feat_imp,\\\n",
    "                            'rf_feat_imp':rf_feat_imp*100})\n",
    "\n",
    "feat_imp_df = feat_imp_df.sort_values('cb_feat_imp', ascending=False)\n",
    "feat_imp_df.style.format('{:.2f}%', subset=['cb_feat_imp', 'rf_feat_imp']).\\\n",
    "                bar(subset=['cb_feat_imp', 'rf_feat_imp'], color='#4EF', width=60)"
   ]
  },
  {
   "cell_type": "markdown",
   "id": "be79b747-c57a-4006-9c74-21b350ae17d1",
   "metadata": {},
   "source": [
    "### Assessing Feature Importance with Model-agnostic Methods\n",
    "\n",
    "#### Permutation Feature Importance"
   ]
  },
  {
   "cell_type": "code",
   "execution_count": 17,
   "id": "830020f6-3018-480c-ba1c-aca00c29bd28",
   "metadata": {},
   "outputs": [],
   "source": [
    "%%time\n",
    "X_samp = X_test.sample(frac=0.3)\n",
    "y_samp = y_test.loc[X_samp.index]\n",
    "\n",
    "cb_perm_imp = inspection.permutation_importance(cb_mdl, X_samp, y_samp,\\\n",
    "                                                n_repeats=5, random_state=rand,\\\n",
    "                                                scoring='neg_mean_absolute_error')\n",
    "rf_perm_imp = inspection.permutation_importance(rf_mdl, X_samp.to_numpy(),\\\n",
    "                                                y_samp.to_numpy(), n_repeats=5,\\\n",
    "                                                random_state=rand, scoring='neg_mean_absolute_error')"
   ]
  },
  {
   "cell_type": "code",
   "execution_count": 18,
   "id": "69bcd00d-90d5-464d-bdea-6d60513f239a",
   "metadata": {},
   "outputs": [],
   "source": [
    "perm_imp_df = pd.DataFrame({'feature':X_train.columns, 'cb_perm_mean':cb_perm_imp.importances_mean,\\\n",
    "                            'cb_perm_std':cb_perm_imp.importances_std,\\\n",
    "                            'rf_perm_mean':rf_perm_imp.importances_mean,\\\n",
    "                            'rf_perm_std':rf_perm_imp.importances_std})\n",
    "\n",
    "perm_imp_df = perm_imp_df.sort_values('cb_perm_mean', ascending=False)\n",
    "perm_imp_df.style.format('{:.4f}', subset=['cb_perm_mean', 'cb_perm_std', 'rf_perm_mean', 'rf_perm_std']).\\\n",
    "                bar(subset=['cb_perm_mean', 'rf_perm_mean'], color='#4EF', width=60)"
   ]
  },
  {
   "cell_type": "markdown",
   "id": "aaefb171-4b42-4d43-9fd3-80aa9d683f72",
   "metadata": {},
   "source": [
    "## SHAP Values\n",
    "\n",
    "### Comprehensive Explanations with the KernelExplainer"
   ]
  },
  {
   "cell_type": "code",
   "execution_count": 19,
   "id": "bce42d9e-9940-4090-a05b-1be422bcc5e1",
   "metadata": {},
   "outputs": [],
   "source": [
    "%%time\n",
    "rf_fn = lambda x: rf_mdl.predict(x)\n",
    "X_train_summary = shap.kmeans(X_train.to_numpy(), 50)\n",
    "X_test_sample = X_test.sample(frac=0.02)\n",
    "\n",
    "rf_kernel_explainer = shap.KernelExplainer(rf_fn, X_train_summary)\n",
    "rf_shap_values = rf_kernel_explainer.shap_values(X_test_sample.to_numpy(),\\\n",
    "                                                 nsamples=100) "
   ]
  },
  {
   "cell_type": "markdown",
   "id": "1b7e870a-9042-4e86-9682-96d1947d192a",
   "metadata": {},
   "source": [
    "#### Faster Explanations with TreeExplainer"
   ]
  },
  {
   "cell_type": "code",
   "execution_count": 20,
   "id": "892c9c39-1481-45af-b872-38da0ab529c9",
   "metadata": {},
   "outputs": [],
   "source": [
    "%%time\n",
    "cb_tree_explainer = shap.TreeExplainer(cb_mdl)\n",
    "cb_shap_values = cb_tree_explainer.shap_values(X_test)"
   ]
  },
  {
   "cell_type": "code",
   "execution_count": 21,
   "id": "8cfbf9b5-ce66-4a60-bdad-20566b9add5b",
   "metadata": {},
   "outputs": [],
   "source": [
    "cb_shap_imp = np.mean(np.abs(cb_shap_values),0)"
   ]
  },
  {
   "cell_type": "code",
   "execution_count": 22,
   "id": "fcfd2126-d02d-448f-9bed-7d62e275d885",
   "metadata": {},
   "outputs": [],
   "source": [
    "rf_shap_imp = np.mean(np.abs(rf_shap_values),0)"
   ]
  },
  {
   "cell_type": "code",
   "execution_count": 23,
   "id": "6361fa16-3e3a-411f-bd04-dddf97a77779",
   "metadata": {},
   "outputs": [],
   "source": [
    "shap_imp_df = pd.DataFrame({'feature':X_train.columns, 'cb_shap_imp':cb_shap_imp,\\\n",
    "                            'rf_shap_imp':rf_shap_imp})\n",
    "\n",
    "shap_imp_df = shap_imp_df.sort_values('cb_shap_imp', ascending=False)\n",
    "shap_imp_df.style.format('{:.4f}', subset=['cb_shap_imp', 'rf_shap_imp']).\\\n",
    "                bar(subset=['cb_shap_imp', 'rf_shap_imp'], color='#4EF', width=60)"
   ]
  },
  {
   "cell_type": "markdown",
   "id": "0637cdad-1506-4590-bb36-1ea8a52ee165",
   "metadata": {},
   "source": [
    "### Visualize Global Explanations"
   ]
  },
  {
   "cell_type": "code",
   "execution_count": 24,
   "id": "3ec8229e-18a3-4185-894c-8f1c504c6310",
   "metadata": {},
   "outputs": [],
   "source": [
    "%%time\n",
    "cb_explainer = shap.Explainer(cb_mdl)\n",
    "cb_shap = cb_explainer(X_test)"
   ]
  },
  {
   "cell_type": "code",
   "execution_count": 25,
   "id": "337b42ff-c58c-4cdd-b6b5-c3f52a862b3c",
   "metadata": {},
   "outputs": [],
   "source": [
    "print(type(cb_explainer))"
   ]
  },
  {
   "cell_type": "code",
   "execution_count": 26,
   "id": "2d0a9614-f5b1-48bc-90cf-8bbd38509241",
   "metadata": {},
   "outputs": [],
   "source": [
    "print(\"Values dimensions: %s\" % (cb_shap.values.shape,)) \n",
    "print(\"Data dimensions:   %s\" % (cb_shap.data.shape,))"
   ]
  },
  {
   "cell_type": "markdown",
   "id": "e790a02f-9612-4bb5-b700-2b92298dbdd9",
   "metadata": {},
   "source": [
    "#### SHAP Bar Plot"
   ]
  },
  {
   "cell_type": "code",
   "execution_count": 27,
   "id": "795cd11d-f498-43e8-9d48-9c7bb0c88096",
   "metadata": {},
   "outputs": [],
   "source": [
    "sns.reset_orig()\n",
    "\n",
    "shap.plots.bar(cb_shap, max_display=15) "
   ]
  },
  {
   "cell_type": "code",
   "execution_count": 28,
   "id": "a26be6fb-042a-4f1a-908d-0c33929fe1e7",
   "metadata": {},
   "outputs": [],
   "source": [
    "yr_cohort = np.where(X_test.year > 2014,\\\n",
    "                     \"Newer Car\", \"Older Car\")\n",
    "\n",
    "shap.plots.bar(cb_shap.cohorts(yr_cohort).abs.mean(0))"
   ]
  },
  {
   "cell_type": "markdown",
   "id": "152d1649-e718-4d8b-ac85-39c00022dbdf",
   "metadata": {},
   "source": [
    "#### SHAP Beeswarm Plot"
   ]
  },
  {
   "cell_type": "code",
   "execution_count": 29,
   "id": "3acab75c-b6a9-4ff2-839a-024c20d531bd",
   "metadata": {},
   "outputs": [],
   "source": [
    "shap.plots.beeswarm(cb_shap, max_display=15)"
   ]
  },
  {
   "cell_type": "markdown",
   "id": "ff2f6d4e-bf2b-4e9e-8f5a-2a7a4fbf6c70",
   "metadata": {},
   "source": [
    "### Feature summary explanations\n",
    "\n",
    "#### Partial Dependence Plot (PDP)"
   ]
  },
  {
   "cell_type": "code",
   "execution_count": null,
   "id": "e9196c75-b156-40dd-ae4b-9af228b5978f",
   "metadata": {},
   "outputs": [],
   "source": [
    "shap.plots.partial_dependence(\"year\", cb_mdl.predict, X_test,\\\n",
    "                              ice=False, model_expected_value=True,\\\n",
    "                              feature_expected_value=True)"
   ]
  },
  {
   "cell_type": "code",
   "execution_count": 30,
   "id": "e9248472-a0dd-42fd-b37c-66cc68443ad8",
   "metadata": {},
   "outputs": [],
   "source": [
    "pdp_single_feature = pdp.PDPIsolate(\n",
    "    model=cb_mdl, df=X_test, model_features=X_test.columns, feature='year',\\\n",
    "    feature_name='year', n_classes=0, n_jobs=-1\n",
    ")\n",
    "fig, axes = pdp_single_feature.plot(plot_pts_dist=True)\n",
    "fig.show()"
   ]
  },
  {
   "cell_type": "code",
   "execution_count": 31,
   "id": "e866513f-b663-459f-9527-10a68bd39cd7",
   "metadata": {},
   "outputs": [],
   "source": [
    "fig, axes = pdp_single_feature.plot(plot_pts_dist=True, plot_lines=True,\\\n",
    "                                    frac_to_plot=0.01)\n",
    "fig.show()"
   ]
  },
  {
   "cell_type": "code",
   "execution_count": 32,
   "id": "99bf54c4-eb32-4cf7-bbbd-d35df644eacd",
   "metadata": {},
   "outputs": [],
   "source": [
    "fig, axes = pdp_single_feature.plot(to_bins=True, plot_lines=True,\\\n",
    "                                    frac_to_plot=0.01, show_percentile=True)\n",
    "fig.show()"
   ]
  },
  {
   "cell_type": "code",
   "execution_count": 33,
   "id": "0425ddda-0cd7-4be2-a8ba-b2e777e1ac6a",
   "metadata": {},
   "outputs": [],
   "source": [
    "cont_feature_l = ['year', 'odometer', 'cylinders', 'epa_displ',\\\n",
    "                  'make_pop', 'make_yr_pop', 'model_yr_pop']\n",
    "\n",
    "make_cat_feature_l = ['make_cat_obsolete', 'make_cat_regular', 'make_cat_premium',\\\n",
    "                      'make_cat_luxury', 'make_cat_luxury_sports']\n",
    "\n",
    "bin_feature_l = ['model_premier', 'auto_trans']\n",
    "\n",
    "cat_feature_l = make_cat_feature_l + bin_feature_l"
   ]
  },
  {
   "cell_type": "code",
   "execution_count": 34,
   "id": "875142a9-c687-4958-b1ff-88ae5aa2ec42",
   "metadata": {},
   "outputs": [],
   "source": [
    "for feature in cont_feature_l: \n",
    "    pdp_single_feature = pdp.PDPIsolate(\n",
    "        model=cb_mdl, df=X_test, model_features=X_test.columns,\\\n",
    "        feature=feature, feature_name=feature, n_classes=0, n_jobs=-1)\n",
    "    fig, axes = pdp_single_feature.plot(to_bins=True, plot_lines=True,\\\n",
    "                             frac_to_plot=0.01, show_percentile=True,\\\n",
    "                             engine='matplotlib')\n",
    "    plt.show()"
   ]
  },
  {
   "cell_type": "code",
   "execution_count": 35,
   "id": "6b9c3832-aabe-4229-b758-3a5f9d09dce9",
   "metadata": {},
   "outputs": [],
   "source": [
    "for feature in make_cat_feature_l: \n",
    "    pdp_single_feature = pdp.PDPIsolate(\n",
    "        model=cb_mdl, df=X_test, model_features=X_test.columns,\\\n",
    "        feature=feature, feature_name=feature, n_classes=0, n_jobs=-1)\n",
    "    fig, axes = pdp_single_feature.plot(to_bins=True, plot_lines=True,\\\n",
    "                             frac_to_plot=0.01, show_percentile=True,\\\n",
    "                             engine='matplotlib')\n",
    "    plt.show()"
   ]
  },
  {
   "cell_type": "code",
   "execution_count": 36,
   "id": "dc13f62f-994e-4cdd-b6db-c63d91e887d2",
   "metadata": {},
   "outputs": [],
   "source": [
    "pdp_multi_feature = pdp.PDPIsolate(\n",
    "    model=cb_mdl, df=X_test, model_features=X_test.columns,\\\n",
    "    feature=make_cat_feature_l, feature_name=\"make_cat\",\\\n",
    "    n_classes=0, n_jobs=-1)\n",
    "\n",
    "fig, axes = pdp_multi_feature.plot(plot_lines=True, plot_pts_dist=True,\\\n",
    "                         frac_to_plot=0.01, show_percentile=True)\n",
    "fig.show()"
   ]
  },
  {
   "cell_type": "code",
   "execution_count": 37,
   "id": "e565ae4e-35f8-45dd-a742-26a8fb99328e",
   "metadata": {},
   "outputs": [],
   "source": [
    "predict_plot = info_plots.PredictPlot(\n",
    "    model=cb_mdl, df=X_test, model_features=X_test.columns, feature=make_cat_feature_l,\\\n",
    "    feature_name=\"make_cat\", n_classes=0)\n",
    "\n",
    "fig, _, _ = predict_plot.plot()\n",
    "fig.show()"
   ]
  },
  {
   "cell_type": "markdown",
   "id": "9aeab27b-3548-4c1c-ab19-d53a84d069c8",
   "metadata": {},
   "source": [
    "#### SHAP Scatter Plot"
   ]
  },
  {
   "cell_type": "code",
   "execution_count": 38,
   "id": "32a93a0d-f69b-4c28-a897-78a106ebaa3b",
   "metadata": {},
   "outputs": [],
   "source": [
    "shap.plots.scatter(cb_shap[:,\"odometer\"], color=cb_shap[:,\"year\"],\\\n",
    "                   xmin=\"percentile(1)\", xmax=\"percentile(99)\", alpha=0.2)"
   ]
  },
  {
   "cell_type": "code",
   "execution_count": 39,
   "id": "61b3b0e4-9a50-4f7f-a7e0-e1d4bc814c12",
   "metadata": {},
   "outputs": [],
   "source": [
    "shap.plots.scatter(cb_shap[:,\"long\"], color=cb_shap[:,\"epa_displ\"],\\\n",
    "                   xmin=\"percentile(0.5)\", xmax=\"percentile(99.5)\", alpha=0.2,\\\n",
    "                   x_jitter=0.5)"
   ]
  },
  {
   "cell_type": "code",
   "execution_count": 40,
   "id": "23948e0a-6f99-4160-98c9-63ec8d4056d3",
   "metadata": {},
   "outputs": [],
   "source": [
    "shap.plots.scatter(cb_shap[:,\"make_cat_luxury\"], color=cb_shap[:,\"year\"],\\\n",
    "                   x_jitter=0.4, alpha=0.2, hist=False)"
   ]
  },
  {
   "cell_type": "markdown",
   "id": "85af1b6b-714c-4e4e-ac40-f3f48fe6f84a",
   "metadata": {},
   "source": [
    "### Accumulated Local Effects (ALE) Plots"
   ]
  },
  {
   "cell_type": "code",
   "execution_count": null,
   "id": "211152d9-a3da-4199-ad2a-8fae815bc8d5",
   "metadata": {},
   "outputs": [],
   "source": []
  },
  {
   "cell_type": "code",
   "execution_count": null,
   "id": "6f2dad24-1f0c-4e3b-9e93-cab8f01445d6",
   "metadata": {},
   "outputs": [],
   "source": []
  },
  {
   "cell_type": "code",
   "execution_count": null,
   "id": "f0c2fbcc-d768-4c14-a0ce-58fe99293420",
   "metadata": {},
   "outputs": [],
   "source": []
  },
  {
   "cell_type": "code",
   "execution_count": null,
   "id": "4dc55e06-e752-4787-aba5-8a51f6480733",
   "metadata": {},
   "outputs": [],
   "source": []
  },
  {
   "cell_type": "code",
   "execution_count": null,
   "id": "2867dc07-522d-4e32-9b9b-05f0a3e3c739",
   "metadata": {},
   "outputs": [],
   "source": []
  },
  {
   "cell_type": "code",
   "execution_count": null,
   "id": "28a241e4-11a2-4ff6-9122-b5153ee4c18d",
   "metadata": {},
   "outputs": [],
   "source": []
  }
 ],
 "metadata": {
  "kernelspec": {
   "display_name": "Python 3 (ipykernel)",
   "language": "python",
   "name": "python3"
  },
  "language_info": {
   "codemirror_mode": {
    "name": "ipython",
    "version": 3
   },
   "file_extension": ".py",
   "mimetype": "text/x-python",
   "name": "python",
   "nbconvert_exporter": "python",
   "pygments_lexer": "ipython3",
   "version": "3.12.11"
  }
 },
 "nbformat": 4,
 "nbformat_minor": 5
}
