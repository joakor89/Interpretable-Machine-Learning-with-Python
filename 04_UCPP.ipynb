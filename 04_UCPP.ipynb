{
 "cells": [
  {
   "cell_type": "markdown",
   "id": "16dc3465-7be2-47df-aed9-f21f7732d387",
   "metadata": {},
   "source": [
    "# Used Cars Price Prediction\n",
    "\n",
    "### Loading Libraries"
   ]
  },
  {
   "cell_type": "code",
   "execution_count": 2,
   "id": "2ba64464-113e-46dd-948f-2e4edfe171aa",
   "metadata": {},
   "outputs": [],
   "source": [
    "# !python chapter_setup.py"
   ]
  },
  {
   "cell_type": "code",
   "execution_count": 9,
   "id": "5a261ea0-7222-4ebf-a818-7e98bae3d723",
   "metadata": {},
   "outputs": [],
   "source": [
    "# Numerical Computing\n",
    "import math\n",
    "import numpy as np\n",
    "\n",
    "# Data Manipulation\n",
    "import pandas as pd\n",
    "\n",
    "# Data Visualization\n",
    "import seaborn as sns\n",
    "import matplotlib as mpl\n",
    "import matplotlib.pyplot as plt \n",
    "\n",
    "# Operating System\n",
    "import os, random\n",
    "\n",
    "# Dataset Source\n",
    "# import machine_learning_datasets as mldatasets\n",
    "\n",
    "# Scikit-Learn\n",
    "from sklearn import metrics, ensemble, tree, inspection, model_selection\n",
    "\n",
    "# CatBoost\n",
    "# import catboost as cb\n",
    "\n",
    "# Model Interpreation\n",
    "# import shap\n",
    "# from PyALE import ale\n",
    "# from pdpbox import pdp, info_plots\n",
    "# from lime.lime_tabular import LimeTabularExplainer"
   ]
  },
  {
   "cell_type": "code",
   "execution_count": null,
   "id": "407a4ecc-2a5b-40e2-9e00-5606f06d8bc0",
   "metadata": {},
   "outputs": [],
   "source": []
  },
  {
   "cell_type": "code",
   "execution_count": null,
   "id": "4a7241ea-56ea-4b6b-b9ef-075eb4a7dc41",
   "metadata": {},
   "outputs": [],
   "source": []
  },
  {
   "cell_type": "code",
   "execution_count": null,
   "id": "3156b705-194f-4aa3-8df4-f8cfcc22cc2f",
   "metadata": {},
   "outputs": [],
   "source": []
  },
  {
   "cell_type": "code",
   "execution_count": null,
   "id": "b7b58ccc-f841-4fc5-81fb-85e77309d865",
   "metadata": {},
   "outputs": [],
   "source": []
  },
  {
   "cell_type": "code",
   "execution_count": null,
   "id": "228e3e47-9ec5-4172-9ea5-3e6c10746758",
   "metadata": {},
   "outputs": [],
   "source": []
  },
  {
   "cell_type": "code",
   "execution_count": null,
   "id": "85e6ab66-e4df-4c6d-a58b-28e4800437a8",
   "metadata": {},
   "outputs": [],
   "source": []
  },
  {
   "cell_type": "code",
   "execution_count": null,
   "id": "c8b5c498-8484-4c0a-b07b-67c9ed581cb7",
   "metadata": {},
   "outputs": [],
   "source": []
  }
 ],
 "metadata": {
  "kernelspec": {
   "display_name": "Python 3 (ipykernel)",
   "language": "python",
   "name": "python3"
  },
  "language_info": {
   "codemirror_mode": {
    "name": "ipython",
    "version": 3
   },
   "file_extension": ".py",
   "mimetype": "text/x-python",
   "name": "python",
   "nbconvert_exporter": "python",
   "pygments_lexer": "ipython3",
   "version": "3.12.11"
  }
 },
 "nbformat": 4,
 "nbformat_minor": 5
}
